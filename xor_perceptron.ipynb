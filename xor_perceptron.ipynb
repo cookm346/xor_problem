{
  "nbformat": 4,
  "nbformat_minor": 0,
  "metadata": {
    "colab": {
      "name": "Untitled18.ipynb",
      "provenance": []
    },
    "kernelspec": {
      "name": "python3",
      "display_name": "Python 3"
    }
  },
  "cells": [
    {
      "cell_type": "code",
      "metadata": {
        "id": "LdFcvXi5IpqE"
      },
      "source": [
        "%matplotlib inline\n",
        "import matplotlib as mpl\n",
        "import matplotlib.pyplot as plt\n",
        "mpl.rc('axes', labelsize=14)\n",
        "mpl.rc('xtick', labelsize=12)\n",
        "mpl.rc('ytick', labelsize=12)"
      ],
      "execution_count": 1,
      "outputs": []
    },
    {
      "cell_type": "markdown",
      "metadata": {
        "id": "pRXbq0W4GXKx"
      },
      "source": [
        "The following function generates a set of all possible combinations of n binary inputs. It also generates all possible target binary variables. In other words, it generates all possible logical functions given n inputs and 1 output (e.g., AND, OR, XOR)."
      ]
    },
    {
      "cell_type": "code",
      "metadata": {
        "id": "S8gjwN9lKaki"
      },
      "source": [
        "import itertools as it\n",
        "\n",
        "def make_binary_data(n_inputs):\n",
        "  X = list(it.product((0,1), repeat=n_inputs))\n",
        "  Y = list(it.product((0,1), repeat=2**n_inputs))\n",
        "  Y = Y[1:-1]\n",
        "  return X, Y"
      ],
      "execution_count": 2,
      "outputs": []
    },
    {
      "cell_type": "code",
      "metadata": {
        "id": "u188kFd1C65A"
      },
      "source": [
        "X, Y = make_binary_data(2)"
      ],
      "execution_count": 4,
      "outputs": []
    },
    {
      "cell_type": "markdown",
      "metadata": {
        "id": "NQNBR4i-G9F_"
      },
      "source": [
        "X is all four possible instances of binary inputs in two dimensions. The rows in Y represent all possible logic functions (AND, OR, XOR, etc) given four binary outputs (other than single class outputs such as [0,0,0,0])."
      ]
    },
    {
      "cell_type": "code",
      "metadata": {
        "id": "SP7CqopUC9lM",
        "outputId": "e8e66739-b37e-4c08-eb7a-f360415a961c",
        "colab": {
          "base_uri": "https://localhost:8080/"
        }
      },
      "source": [
        "X"
      ],
      "execution_count": 5,
      "outputs": [
        {
          "output_type": "execute_result",
          "data": {
            "text/plain": [
              "[(0, 0), (0, 1), (1, 0), (1, 1)]"
            ]
          },
          "metadata": {
            "tags": []
          },
          "execution_count": 5
        }
      ]
    },
    {
      "cell_type": "code",
      "metadata": {
        "id": "HEjzbTuIDKnz",
        "outputId": "c3570ffd-df43-44df-ffe9-2aaafb429a0b",
        "colab": {
          "base_uri": "https://localhost:8080/"
        }
      },
      "source": [
        "Y"
      ],
      "execution_count": 6,
      "outputs": [
        {
          "output_type": "execute_result",
          "data": {
            "text/plain": [
              "[(0, 0, 0, 1),\n",
              " (0, 0, 1, 0),\n",
              " (0, 0, 1, 1),\n",
              " (0, 1, 0, 0),\n",
              " (0, 1, 0, 1),\n",
              " (0, 1, 1, 0),\n",
              " (0, 1, 1, 1),\n",
              " (1, 0, 0, 0),\n",
              " (1, 0, 0, 1),\n",
              " (1, 0, 1, 0),\n",
              " (1, 0, 1, 1),\n",
              " (1, 1, 0, 0),\n",
              " (1, 1, 0, 1),\n",
              " (1, 1, 1, 0)]"
            ]
          },
          "metadata": {
            "tags": []
          },
          "execution_count": 6
        }
      ]
    },
    {
      "cell_type": "markdown",
      "metadata": {
        "id": "PjFdGA4wHExG"
      },
      "source": [
        "The function below will train and test the Perceptron's ability to classify each of the 14 logical functions (AND, OR, XOR, etc) and returns the accuracy measured as proportion correct."
      ]
    },
    {
      "cell_type": "code",
      "metadata": {
        "id": "mJMISA2cL0pg"
      },
      "source": [
        "from sklearn.linear_model import Perceptron\n",
        "from sklearn.metrics import accuracy_score\n",
        "\n",
        "def test_all_y(X, Y):\n",
        "  r = []\n",
        "  per_clf = Perceptron(max_iter=1000, tol=1e-3, random_state=22)\n",
        "  for y_i in Y:\n",
        "    per_clf.fit(X, y_i)\n",
        "    y_pred = per_clf.predict(X)\n",
        "    r.append(accuracy_score(y_i, y_pred))\n",
        "  return r"
      ],
      "execution_count": 3,
      "outputs": []
    },
    {
      "cell_type": "code",
      "metadata": {
        "id": "iz-tN83qR5aR"
      },
      "source": [
        "results = test_all_y(X, Y)"
      ],
      "execution_count": 7,
      "outputs": []
    },
    {
      "cell_type": "markdown",
      "metadata": {
        "id": "z7P7aeDvHHqg"
      },
      "source": [
        "We can see the Perceptron does pretty well, scoring 92.86% on average across the 14 logical functions."
      ]
    },
    {
      "cell_type": "code",
      "metadata": {
        "id": "EaiYAf2ED4q3",
        "outputId": "c463b756-3b5b-4cd7-e1b5-43d2feedf693",
        "colab": {
          "base_uri": "https://localhost:8080/"
        }
      },
      "source": [
        "import numpy as np\n",
        "np.mean(results)"
      ],
      "execution_count": 8,
      "outputs": [
        {
          "output_type": "execute_result",
          "data": {
            "text/plain": [
              "0.9285714285714286"
            ]
          },
          "metadata": {
            "tags": []
          },
          "execution_count": 8
        }
      ]
    },
    {
      "cell_type": "markdown",
      "metadata": {
        "id": "tjjeN8AHHhR1"
      },
      "source": [
        "To perform some simple feature engineering, we can add the interaction of both input variables."
      ]
    },
    {
      "cell_type": "code",
      "metadata": {
        "id": "fZdP-pdgDhXu"
      },
      "source": [
        "from sklearn.preprocessing import PolynomialFeatures\n",
        "poly = PolynomialFeatures(interaction_only=True,include_bias = False)\n",
        "X = poly.fit_transform(X)"
      ],
      "execution_count": 9,
      "outputs": []
    },
    {
      "cell_type": "code",
      "metadata": {
        "id": "EXKCByJxHf9N",
        "outputId": "5d953639-8489-416a-ba88-81c6b1500fc4",
        "colab": {
          "base_uri": "https://localhost:8080/"
        }
      },
      "source": [
        "X"
      ],
      "execution_count": 10,
      "outputs": [
        {
          "output_type": "execute_result",
          "data": {
            "text/plain": [
              "array([[0., 0., 0.],\n",
              "       [0., 1., 0.],\n",
              "       [1., 0., 0.],\n",
              "       [1., 1., 1.]])"
            ]
          },
          "metadata": {
            "tags": []
          },
          "execution_count": 10
        }
      ]
    },
    {
      "cell_type": "code",
      "metadata": {
        "id": "eUM_KKScDsiF"
      },
      "source": [
        "results_int = test_all_y(X, Y)"
      ],
      "execution_count": 11,
      "outputs": []
    },
    {
      "cell_type": "markdown",
      "metadata": {
        "id": "0PxC-kbWHqAw"
      },
      "source": [
        "Now we can see the Perceptron solves all 14 logical functions."
      ]
    },
    {
      "cell_type": "code",
      "metadata": {
        "id": "tVNErTTiD6w0",
        "outputId": "4c963402-41ee-41d9-ce59-67f9f7b8121f",
        "colab": {
          "base_uri": "https://localhost:8080/"
        }
      },
      "source": [
        "np.mean(results_int)"
      ],
      "execution_count": 12,
      "outputs": [
        {
          "output_type": "execute_result",
          "data": {
            "text/plain": [
              "1.0"
            ]
          },
          "metadata": {
            "tags": []
          },
          "execution_count": 12
        }
      ]
    },
    {
      "cell_type": "markdown",
      "metadata": {
        "id": "NRdkQ4iDHuxm"
      },
      "source": [
        "The plot below shows the performance on each of the 14 logical functions."
      ]
    },
    {
      "cell_type": "code",
      "metadata": {
        "id": "Eumj-KGmNqc3",
        "outputId": "67bd19c5-2cd9-4fe3-8a52-1ea8396bf3ef",
        "colab": {
          "base_uri": "https://localhost:8080/",
          "height": 525
        }
      },
      "source": [
        "plt.figure(figsize=(10,8))\n",
        "plt.rcParams.update({'font.size': 16})\n",
        "plt.plot(list(range(1, len(Y)+1)), results,\"r.-\", markersize=15, label=\"x1 & x2\")\n",
        "plt.plot(list(range(1, len(Y)+1)), results_int, label=\"x1 & x2 & x1x2\")\n",
        "\n",
        "plt.title(\"Solving the XOR problem through simple feature engineering\")\n",
        "plt.xlabel(\"logic function\")\n",
        "plt.ylabel(\"Accuracy\")\n",
        "\n",
        "plt.xticks(list(range(1, len(Y)+1)))\n",
        "plt.yticks([0, 0.25,0.5, 0.75, 1])\n",
        "\n",
        "plt.legend(loc=\"lower left\")\n",
        "\n",
        "plt.show()"
      ],
      "execution_count": 13,
      "outputs": [
        {
          "output_type": "display_data",
          "data": {
            "image/png": "[encoded data removed]",
            "text/plain": [
              "<Figure size 720x576 with 1 Axes>"
            ]
          },
          "metadata": {
            "tags": [],
            "needs_background": "light"
          }
        }
      ]
    },
    {
      "cell_type": "markdown",
      "metadata": {
        "id": "iXjZoa2wHzi1"
      },
      "source": [
        "\n",
        "The results above show that in 2 of 14 logic functions, the Perceptron fails to converge on a solution that allows it to properly classifiy each instance. This is because these 2 logic functions are non-linearlly seperable (XOR and XNOR).\n",
        "\n",
        "However, by some very simple feature engineering (including an interaction term), the model is able to properly classify all 14 logical functions with no change in model architecture (i.e., adding a hidden layer).\n"
      ]
    },
    {
      "cell_type": "markdown",
      "metadata": {
        "id": "cQMR_5L9IJc-"
      },
      "source": [
        "We can repeat the same experiment but with 3 input variables:"
      ]
    },
    {
      "cell_type": "code",
      "metadata": {
        "id": "c3rG4Wl1EMqr"
      },
      "source": [
        "X, Y = make_binary_data(3)"
      ],
      "execution_count": 14,
      "outputs": []
    },
    {
      "cell_type": "code",
      "metadata": {
        "id": "E1v-9y0OESgN",
        "outputId": "6b91cc20-3fb9-4a26-ece2-6ad76b9386cc",
        "colab": {
          "base_uri": "https://localhost:8080/"
        }
      },
      "source": [
        "X"
      ],
      "execution_count": 15,
      "outputs": [
        {
          "output_type": "execute_result",
          "data": {
            "text/plain": [
              "[(0, 0, 0),\n",
              " (0, 0, 1),\n",
              " (0, 1, 0),\n",
              " (0, 1, 1),\n",
              " (1, 0, 0),\n",
              " (1, 0, 1),\n",
              " (1, 1, 0),\n",
              " (1, 1, 1)]"
            ]
          },
          "metadata": {
            "tags": []
          },
          "execution_count": 15
        }
      ]
    },
    {
      "cell_type": "code",
      "metadata": {
        "id": "XL6gp6K6ETPF",
        "outputId": "08f333a3-8594-472f-bd55-4048e5f5c00c",
        "colab": {
          "base_uri": "https://localhost:8080/"
        }
      },
      "source": [
        "Y"
      ],
      "execution_count": 16,
      "outputs": [
        {
          "output_type": "execute_result",
          "data": {
            "text/plain": [
              "[(0, 0, 0, 0, 0, 0, 0, 1),\n",
              " (0, 0, 0, 0, 0, 0, 1, 0),\n",
              " (0, 0, 0, 0, 0, 0, 1, 1),\n",
              " (0, 0, 0, 0, 0, 1, 0, 0),\n",
              " (0, 0, 0, 0, 0, 1, 0, 1),\n",
              " (0, 0, 0, 0, 0, 1, 1, 0),\n",
              " (0, 0, 0, 0, 0, 1, 1, 1),\n",
              " (0, 0, 0, 0, 1, 0, 0, 0),\n",
              " (0, 0, 0, 0, 1, 0, 0, 1),\n",
              " (0, 0, 0, 0, 1, 0, 1, 0),\n",
              " (0, 0, 0, 0, 1, 0, 1, 1),\n",
              " (0, 0, 0, 0, 1, 1, 0, 0),\n",
              " (0, 0, 0, 0, 1, 1, 0, 1),\n",
              " (0, 0, 0, 0, 1, 1, 1, 0),\n",
              " (0, 0, 0, 0, 1, 1, 1, 1),\n",
              " (0, 0, 0, 1, 0, 0, 0, 0),\n",
              " (0, 0, 0, 1, 0, 0, 0, 1),\n",
              " (0, 0, 0, 1, 0, 0, 1, 0),\n",
              " (0, 0, 0, 1, 0, 0, 1, 1),\n",
              " (0, 0, 0, 1, 0, 1, 0, 0),\n",
              " (0, 0, 0, 1, 0, 1, 0, 1),\n",
              " (0, 0, 0, 1, 0, 1, 1, 0),\n",
              " (0, 0, 0, 1, 0, 1, 1, 1),\n",
              " (0, 0, 0, 1, 1, 0, 0, 0),\n",
              " (0, 0, 0, 1, 1, 0, 0, 1),\n",
              " (0, 0, 0, 1, 1, 0, 1, 0),\n",
              " (0, 0, 0, 1, 1, 0, 1, 1),\n",
              " (0, 0, 0, 1, 1, 1, 0, 0),\n",
              " (0, 0, 0, 1, 1, 1, 0, 1),\n",
              " (0, 0, 0, 1, 1, 1, 1, 0),\n",
              " (0, 0, 0, 1, 1, 1, 1, 1),\n",
              " (0, 0, 1, 0, 0, 0, 0, 0),\n",
              " (0, 0, 1, 0, 0, 0, 0, 1),\n",
              " (0, 0, 1, 0, 0, 0, 1, 0),\n",
              " (0, 0, 1, 0, 0, 0, 1, 1),\n",
              " (0, 0, 1, 0, 0, 1, 0, 0),\n",
              " (0, 0, 1, 0, 0, 1, 0, 1),\n",
              " (0, 0, 1, 0, 0, 1, 1, 0),\n",
              " (0, 0, 1, 0, 0, 1, 1, 1),\n",
              " (0, 0, 1, 0, 1, 0, 0, 0),\n",
              " (0, 0, 1, 0, 1, 0, 0, 1),\n",
              " (0, 0, 1, 0, 1, 0, 1, 0),\n",
              " (0, 0, 1, 0, 1, 0, 1, 1),\n",
              " (0, 0, 1, 0, 1, 1, 0, 0),\n",
              " (0, 0, 1, 0, 1, 1, 0, 1),\n",
              " (0, 0, 1, 0, 1, 1, 1, 0),\n",
              " (0, 0, 1, 0, 1, 1, 1, 1),\n",
              " (0, 0, 1, 1, 0, 0, 0, 0),\n",
              " (0, 0, 1, 1, 0, 0, 0, 1),\n",
              " (0, 0, 1, 1, 0, 0, 1, 0),\n",
              " (0, 0, 1, 1, 0, 0, 1, 1),\n",
              " (0, 0, 1, 1, 0, 1, 0, 0),\n",
              " (0, 0, 1, 1, 0, 1, 0, 1),\n",
              " (0, 0, 1, 1, 0, 1, 1, 0),\n",
              " (0, 0, 1, 1, 0, 1, 1, 1),\n",
              " (0, 0, 1, 1, 1, 0, 0, 0),\n",
              " (0, 0, 1, 1, 1, 0, 0, 1),\n",
              " (0, 0, 1, 1, 1, 0, 1, 0),\n",
              " (0, 0, 1, 1, 1, 0, 1, 1),\n",
              " (0, 0, 1, 1, 1, 1, 0, 0),\n",
              " (0, 0, 1, 1, 1, 1, 0, 1),\n",
              " (0, 0, 1, 1, 1, 1, 1, 0),\n",
              " (0, 0, 1, 1, 1, 1, 1, 1),\n",
              " (0, 1, 0, 0, 0, 0, 0, 0),\n",
              " (0, 1, 0, 0, 0, 0, 0, 1),\n",
              " (0, 1, 0, 0, 0, 0, 1, 0),\n",
              " (0, 1, 0, 0, 0, 0, 1, 1),\n",
              " (0, 1, 0, 0, 0, 1, 0, 0),\n",
              " (0, 1, 0, 0, 0, 1, 0, 1),\n",
              " (0, 1, 0, 0, 0, 1, 1, 0),\n",
              " (0, 1, 0, 0, 0, 1, 1, 1),\n",
              " (0, 1, 0, 0, 1, 0, 0, 0),\n",
              " (0, 1, 0, 0, 1, 0, 0, 1),\n",
              " (0, 1, 0, 0, 1, 0, 1, 0),\n",
              " (0, 1, 0, 0, 1, 0, 1, 1),\n",
              " (0, 1, 0, 0, 1, 1, 0, 0),\n",
              " (0, 1, 0, 0, 1, 1, 0, 1),\n",
              " (0, 1, 0, 0, 1, 1, 1, 0),\n",
              " (0, 1, 0, 0, 1, 1, 1, 1),\n",
              " (0, 1, 0, 1, 0, 0, 0, 0),\n",
              " (0, 1, 0, 1, 0, 0, 0, 1),\n",
              " (0, 1, 0, 1, 0, 0, 1, 0),\n",
              " (0, 1, 0, 1, 0, 0, 1, 1),\n",
              " (0, 1, 0, 1, 0, 1, 0, 0),\n",
              " (0, 1, 0, 1, 0, 1, 0, 1),\n",
              " (0, 1, 0, 1, 0, 1, 1, 0),\n",
              " (0, 1, 0, 1, 0, 1, 1, 1),\n",
              " (0, 1, 0, 1, 1, 0, 0, 0),\n",
              " (0, 1, 0, 1, 1, 0, 0, 1),\n",
              " (0, 1, 0, 1, 1, 0, 1, 0),\n",
              " (0, 1, 0, 1, 1, 0, 1, 1),\n",
              " (0, 1, 0, 1, 1, 1, 0, 0),\n",
              " (0, 1, 0, 1, 1, 1, 0, 1),\n",
              " (0, 1, 0, 1, 1, 1, 1, 0),\n",
              " (0, 1, 0, 1, 1, 1, 1, 1),\n",
              " (0, 1, 1, 0, 0, 0, 0, 0),\n",
              " (0, 1, 1, 0, 0, 0, 0, 1),\n",
              " (0, 1, 1, 0, 0, 0, 1, 0),\n",
              " (0, 1, 1, 0, 0, 0, 1, 1),\n",
              " (0, 1, 1, 0, 0, 1, 0, 0),\n",
              " (0, 1, 1, 0, 0, 1, 0, 1),\n",
              " (0, 1, 1, 0, 0, 1, 1, 0),\n",
              " (0, 1, 1, 0, 0, 1, 1, 1),\n",
              " (0, 1, 1, 0, 1, 0, 0, 0),\n",
              " (0, 1, 1, 0, 1, 0, 0, 1),\n",
              " (0, 1, 1, 0, 1, 0, 1, 0),\n",
              " (0, 1, 1, 0, 1, 0, 1, 1),\n",
              " (0, 1, 1, 0, 1, 1, 0, 0),\n",
              " (0, 1, 1, 0, 1, 1, 0, 1),\n",
              " (0, 1, 1, 0, 1, 1, 1, 0),\n",
              " (0, 1, 1, 0, 1, 1, 1, 1),\n",
              " (0, 1, 1, 1, 0, 0, 0, 0),\n",
              " (0, 1, 1, 1, 0, 0, 0, 1),\n",
              " (0, 1, 1, 1, 0, 0, 1, 0),\n",
              " (0, 1, 1, 1, 0, 0, 1, 1),\n",
              " (0, 1, 1, 1, 0, 1, 0, 0),\n",
              " (0, 1, 1, 1, 0, 1, 0, 1),\n",
              " (0, 1, 1, 1, 0, 1, 1, 0),\n",
              " (0, 1, 1, 1, 0, 1, 1, 1),\n",
              " (0, 1, 1, 1, 1, 0, 0, 0),\n",
              " (0, 1, 1, 1, 1, 0, 0, 1),\n",
              " (0, 1, 1, 1, 1, 0, 1, 0),\n",
              " (0, 1, 1, 1, 1, 0, 1, 1),\n",
              " (0, 1, 1, 1, 1, 1, 0, 0),\n",
              " (0, 1, 1, 1, 1, 1, 0, 1),\n",
              " (0, 1, 1, 1, 1, 1, 1, 0),\n",
              " (0, 1, 1, 1, 1, 1, 1, 1),\n",
              " (1, 0, 0, 0, 0, 0, 0, 0),\n",
              " (1, 0, 0, 0, 0, 0, 0, 1),\n",
              " (1, 0, 0, 0, 0, 0, 1, 0),\n",
              " (1, 0, 0, 0, 0, 0, 1, 1),\n",
              " (1, 0, 0, 0, 0, 1, 0, 0),\n",
              " (1, 0, 0, 0, 0, 1, 0, 1),\n",
              " (1, 0, 0, 0, 0, 1, 1, 0),\n",
              " (1, 0, 0, 0, 0, 1, 1, 1),\n",
              " (1, 0, 0, 0, 1, 0, 0, 0),\n",
              " (1, 0, 0, 0, 1, 0, 0, 1),\n",
              " (1, 0, 0, 0, 1, 0, 1, 0),\n",
              " (1, 0, 0, 0, 1, 0, 1, 1),\n",
              " (1, 0, 0, 0, 1, 1, 0, 0),\n",
              " (1, 0, 0, 0, 1, 1, 0, 1),\n",
              " (1, 0, 0, 0, 1, 1, 1, 0),\n",
              " (1, 0, 0, 0, 1, 1, 1, 1),\n",
              " (1, 0, 0, 1, 0, 0, 0, 0),\n",
              " (1, 0, 0, 1, 0, 0, 0, 1),\n",
              " (1, 0, 0, 1, 0, 0, 1, 0),\n",
              " (1, 0, 0, 1, 0, 0, 1, 1),\n",
              " (1, 0, 0, 1, 0, 1, 0, 0),\n",
              " (1, 0, 0, 1, 0, 1, 0, 1),\n",
              " (1, 0, 0, 1, 0, 1, 1, 0),\n",
              " (1, 0, 0, 1, 0, 1, 1, 1),\n",
              " (1, 0, 0, 1, 1, 0, 0, 0),\n",
              " (1, 0, 0, 1, 1, 0, 0, 1),\n",
              " (1, 0, 0, 1, 1, 0, 1, 0),\n",
              " (1, 0, 0, 1, 1, 0, 1, 1),\n",
              " (1, 0, 0, 1, 1, 1, 0, 0),\n",
              " (1, 0, 0, 1, 1, 1, 0, 1),\n",
              " (1, 0, 0, 1, 1, 1, 1, 0),\n",
              " (1, 0, 0, 1, 1, 1, 1, 1),\n",
              " (1, 0, 1, 0, 0, 0, 0, 0),\n",
              " (1, 0, 1, 0, 0, 0, 0, 1),\n",
              " (1, 0, 1, 0, 0, 0, 1, 0),\n",
              " (1, 0, 1, 0, 0, 0, 1, 1),\n",
              " (1, 0, 1, 0, 0, 1, 0, 0),\n",
              " (1, 0, 1, 0, 0, 1, 0, 1),\n",
              " (1, 0, 1, 0, 0, 1, 1, 0),\n",
              " (1, 0, 1, 0, 0, 1, 1, 1),\n",
              " (1, 0, 1, 0, 1, 0, 0, 0),\n",
              " (1, 0, 1, 0, 1, 0, 0, 1),\n",
              " (1, 0, 1, 0, 1, 0, 1, 0),\n",
              " (1, 0, 1, 0, 1, 0, 1, 1),\n",
              " (1, 0, 1, 0, 1, 1, 0, 0),\n",
              " (1, 0, 1, 0, 1, 1, 0, 1),\n",
              " (1, 0, 1, 0, 1, 1, 1, 0),\n",
              " (1, 0, 1, 0, 1, 1, 1, 1),\n",
              " (1, 0, 1, 1, 0, 0, 0, 0),\n",
              " (1, 0, 1, 1, 0, 0, 0, 1),\n",
              " (1, 0, 1, 1, 0, 0, 1, 0),\n",
              " (1, 0, 1, 1, 0, 0, 1, 1),\n",
              " (1, 0, 1, 1, 0, 1, 0, 0),\n",
              " (1, 0, 1, 1, 0, 1, 0, 1),\n",
              " (1, 0, 1, 1, 0, 1, 1, 0),\n",
              " (1, 0, 1, 1, 0, 1, 1, 1),\n",
              " (1, 0, 1, 1, 1, 0, 0, 0),\n",
              " (1, 0, 1, 1, 1, 0, 0, 1),\n",
              " (1, 0, 1, 1, 1, 0, 1, 0),\n",
              " (1, 0, 1, 1, 1, 0, 1, 1),\n",
              " (1, 0, 1, 1, 1, 1, 0, 0),\n",
              " (1, 0, 1, 1, 1, 1, 0, 1),\n",
              " (1, 0, 1, 1, 1, 1, 1, 0),\n",
              " (1, 0, 1, 1, 1, 1, 1, 1),\n",
              " (1, 1, 0, 0, 0, 0, 0, 0),\n",
              " (1, 1, 0, 0, 0, 0, 0, 1),\n",
              " (1, 1, 0, 0, 0, 0, 1, 0),\n",
              " (1, 1, 0, 0, 0, 0, 1, 1),\n",
              " (1, 1, 0, 0, 0, 1, 0, 0),\n",
              " (1, 1, 0, 0, 0, 1, 0, 1),\n",
              " (1, 1, 0, 0, 0, 1, 1, 0),\n",
              " (1, 1, 0, 0, 0, 1, 1, 1),\n",
              " (1, 1, 0, 0, 1, 0, 0, 0),\n",
              " (1, 1, 0, 0, 1, 0, 0, 1),\n",
              " (1, 1, 0, 0, 1, 0, 1, 0),\n",
              " (1, 1, 0, 0, 1, 0, 1, 1),\n",
              " (1, 1, 0, 0, 1, 1, 0, 0),\n",
              " (1, 1, 0, 0, 1, 1, 0, 1),\n",
              " (1, 1, 0, 0, 1, 1, 1, 0),\n",
              " (1, 1, 0, 0, 1, 1, 1, 1),\n",
              " (1, 1, 0, 1, 0, 0, 0, 0),\n",
              " (1, 1, 0, 1, 0, 0, 0, 1),\n",
              " (1, 1, 0, 1, 0, 0, 1, 0),\n",
              " (1, 1, 0, 1, 0, 0, 1, 1),\n",
              " (1, 1, 0, 1, 0, 1, 0, 0),\n",
              " (1, 1, 0, 1, 0, 1, 0, 1),\n",
              " (1, 1, 0, 1, 0, 1, 1, 0),\n",
              " (1, 1, 0, 1, 0, 1, 1, 1),\n",
              " (1, 1, 0, 1, 1, 0, 0, 0),\n",
              " (1, 1, 0, 1, 1, 0, 0, 1),\n",
              " (1, 1, 0, 1, 1, 0, 1, 0),\n",
              " (1, 1, 0, 1, 1, 0, 1, 1),\n",
              " (1, 1, 0, 1, 1, 1, 0, 0),\n",
              " (1, 1, 0, 1, 1, 1, 0, 1),\n",
              " (1, 1, 0, 1, 1, 1, 1, 0),\n",
              " (1, 1, 0, 1, 1, 1, 1, 1),\n",
              " (1, 1, 1, 0, 0, 0, 0, 0),\n",
              " (1, 1, 1, 0, 0, 0, 0, 1),\n",
              " (1, 1, 1, 0, 0, 0, 1, 0),\n",
              " (1, 1, 1, 0, 0, 0, 1, 1),\n",
              " (1, 1, 1, 0, 0, 1, 0, 0),\n",
              " (1, 1, 1, 0, 0, 1, 0, 1),\n",
              " (1, 1, 1, 0, 0, 1, 1, 0),\n",
              " (1, 1, 1, 0, 0, 1, 1, 1),\n",
              " (1, 1, 1, 0, 1, 0, 0, 0),\n",
              " (1, 1, 1, 0, 1, 0, 0, 1),\n",
              " (1, 1, 1, 0, 1, 0, 1, 0),\n",
              " (1, 1, 1, 0, 1, 0, 1, 1),\n",
              " (1, 1, 1, 0, 1, 1, 0, 0),\n",
              " (1, 1, 1, 0, 1, 1, 0, 1),\n",
              " (1, 1, 1, 0, 1, 1, 1, 0),\n",
              " (1, 1, 1, 0, 1, 1, 1, 1),\n",
              " (1, 1, 1, 1, 0, 0, 0, 0),\n",
              " (1, 1, 1, 1, 0, 0, 0, 1),\n",
              " (1, 1, 1, 1, 0, 0, 1, 0),\n",
              " (1, 1, 1, 1, 0, 0, 1, 1),\n",
              " (1, 1, 1, 1, 0, 1, 0, 0),\n",
              " (1, 1, 1, 1, 0, 1, 0, 1),\n",
              " (1, 1, 1, 1, 0, 1, 1, 0),\n",
              " (1, 1, 1, 1, 0, 1, 1, 1),\n",
              " (1, 1, 1, 1, 1, 0, 0, 0),\n",
              " (1, 1, 1, 1, 1, 0, 0, 1),\n",
              " (1, 1, 1, 1, 1, 0, 1, 0),\n",
              " (1, 1, 1, 1, 1, 0, 1, 1),\n",
              " (1, 1, 1, 1, 1, 1, 0, 0),\n",
              " (1, 1, 1, 1, 1, 1, 0, 1),\n",
              " (1, 1, 1, 1, 1, 1, 1, 0)]"
            ]
          },
          "metadata": {
            "tags": []
          },
          "execution_count": 16
        }
      ]
    },
    {
      "cell_type": "code",
      "metadata": {
        "id": "9DnpGm7vEUYe"
      },
      "source": [
        "results = test_all_y(X, Y)"
      ],
      "execution_count": 17,
      "outputs": []
    },
    {
      "cell_type": "code",
      "metadata": {
        "id": "no4lf7z3EaW_",
        "outputId": "c8a42a19-9492-4f6c-a914-4626132250e0",
        "colab": {
          "base_uri": "https://localhost:8080/"
        }
      },
      "source": [
        "np.mean(results)"
      ],
      "execution_count": 18,
      "outputs": [
        {
          "output_type": "execute_result",
          "data": {
            "text/plain": [
              "0.8061023622047244"
            ]
          },
          "metadata": {
            "tags": []
          },
          "execution_count": 18
        }
      ]
    },
    {
      "cell_type": "code",
      "metadata": {
        "id": "BTK2tTy3Eif5"
      },
      "source": [
        "poly = PolynomialFeatures(interaction_only=True,include_bias = False)\n",
        "X = poly.fit_transform(X)"
      ],
      "execution_count": 19,
      "outputs": []
    },
    {
      "cell_type": "code",
      "metadata": {
        "id": "8GqTTEwVEbrG"
      },
      "source": [
        "results_int = test_all_y(X, Y)"
      ],
      "execution_count": 20,
      "outputs": []
    },
    {
      "cell_type": "code",
      "metadata": {
        "id": "qtGPGH71Ek6l",
        "outputId": "50001c7c-10a1-4888-99c2-71b7e68f036e",
        "colab": {
          "base_uri": "https://localhost:8080/"
        }
      },
      "source": [
        "np.mean(results_int)"
      ],
      "execution_count": 21,
      "outputs": [
        {
          "output_type": "execute_result",
          "data": {
            "text/plain": [
              "0.9493110236220472"
            ]
          },
          "metadata": {
            "tags": []
          },
          "execution_count": 21
        }
      ]
    },
    {
      "cell_type": "markdown",
      "metadata": {
        "id": "l6MM70GfIN5W"
      },
      "source": [
        "With three input variables the model originally performs about 80% accurate on the 254 logical functions (all possible logical functions where the target variable has more than one class).\n",
        "\n",
        "By adding interactions variables, the model performs about 15% better wit no change in model architecture."
      ]
    }
  ]
}